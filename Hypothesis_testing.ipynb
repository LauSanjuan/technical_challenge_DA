{
 "cells": [
  {
   "cell_type": "markdown",
   "id": "53cffaad",
   "metadata": {},
   "source": [
    "# Hypothesis testing"
   ]
  },
  {
   "cell_type": "code",
   "execution_count": 1,
   "id": "4de8ddac",
   "metadata": {},
   "outputs": [],
   "source": [
    "import pandas as pd\n",
    "import scipy.stats as st"
   ]
  },
  {
   "cell_type": "code",
   "execution_count": 2,
   "id": "9e83e3b8",
   "metadata": {},
   "outputs": [
    {
     "data": {
      "text/html": [
       "<div>\n",
       "<style scoped>\n",
       "    .dataframe tbody tr th:only-of-type {\n",
       "        vertical-align: middle;\n",
       "    }\n",
       "\n",
       "    .dataframe tbody tr th {\n",
       "        vertical-align: top;\n",
       "    }\n",
       "\n",
       "    .dataframe thead th {\n",
       "        text-align: right;\n",
       "    }\n",
       "</style>\n",
       "<table border=\"1\" class=\"dataframe\">\n",
       "  <thead>\n",
       "    <tr style=\"text-align: right;\">\n",
       "      <th></th>\n",
       "      <th>distance</th>\n",
       "      <th>consume</th>\n",
       "      <th>speed</th>\n",
       "      <th>temp_inside</th>\n",
       "      <th>temp_outside</th>\n",
       "      <th>gas_type</th>\n",
       "      <th>ac</th>\n",
       "      <th>rain</th>\n",
       "      <th>sun</th>\n",
       "      <th>temp_diff</th>\n",
       "      <th>trip_consume</th>\n",
       "      <th>trip_cost</th>\n",
       "    </tr>\n",
       "  </thead>\n",
       "  <tbody>\n",
       "    <tr>\n",
       "      <th>0</th>\n",
       "      <td>28.0</td>\n",
       "      <td>5.0</td>\n",
       "      <td>26</td>\n",
       "      <td>21.5</td>\n",
       "      <td>12</td>\n",
       "      <td>E10</td>\n",
       "      <td>0</td>\n",
       "      <td>0</td>\n",
       "      <td>0</td>\n",
       "      <td>9.5</td>\n",
       "      <td>1.4000</td>\n",
       "      <td>1.932000</td>\n",
       "    </tr>\n",
       "    <tr>\n",
       "      <th>1</th>\n",
       "      <td>12.0</td>\n",
       "      <td>4.2</td>\n",
       "      <td>30</td>\n",
       "      <td>21.5</td>\n",
       "      <td>13</td>\n",
       "      <td>E10</td>\n",
       "      <td>0</td>\n",
       "      <td>0</td>\n",
       "      <td>0</td>\n",
       "      <td>8.5</td>\n",
       "      <td>0.5040</td>\n",
       "      <td>0.695520</td>\n",
       "    </tr>\n",
       "    <tr>\n",
       "      <th>2</th>\n",
       "      <td>11.2</td>\n",
       "      <td>5.5</td>\n",
       "      <td>38</td>\n",
       "      <td>21.5</td>\n",
       "      <td>15</td>\n",
       "      <td>E10</td>\n",
       "      <td>0</td>\n",
       "      <td>0</td>\n",
       "      <td>0</td>\n",
       "      <td>6.5</td>\n",
       "      <td>0.6160</td>\n",
       "      <td>0.850080</td>\n",
       "    </tr>\n",
       "    <tr>\n",
       "      <th>3</th>\n",
       "      <td>12.9</td>\n",
       "      <td>3.9</td>\n",
       "      <td>36</td>\n",
       "      <td>21.5</td>\n",
       "      <td>14</td>\n",
       "      <td>E10</td>\n",
       "      <td>0</td>\n",
       "      <td>0</td>\n",
       "      <td>0</td>\n",
       "      <td>7.5</td>\n",
       "      <td>0.5031</td>\n",
       "      <td>0.694278</td>\n",
       "    </tr>\n",
       "    <tr>\n",
       "      <th>4</th>\n",
       "      <td>18.5</td>\n",
       "      <td>4.5</td>\n",
       "      <td>46</td>\n",
       "      <td>21.5</td>\n",
       "      <td>15</td>\n",
       "      <td>E10</td>\n",
       "      <td>0</td>\n",
       "      <td>0</td>\n",
       "      <td>0</td>\n",
       "      <td>6.5</td>\n",
       "      <td>0.8325</td>\n",
       "      <td>1.148850</td>\n",
       "    </tr>\n",
       "  </tbody>\n",
       "</table>\n",
       "</div>"
      ],
      "text/plain": [
       "   distance  consume  speed  temp_inside  temp_outside gas_type  ac  rain  \\\n",
       "0      28.0      5.0     26         21.5            12      E10   0     0   \n",
       "1      12.0      4.2     30         21.5            13      E10   0     0   \n",
       "2      11.2      5.5     38         21.5            15      E10   0     0   \n",
       "3      12.9      3.9     36         21.5            14      E10   0     0   \n",
       "4      18.5      4.5     46         21.5            15      E10   0     0   \n",
       "\n",
       "   sun  temp_diff  trip_consume  trip_cost  \n",
       "0    0        9.5        1.4000   1.932000  \n",
       "1    0        8.5        0.5040   0.695520  \n",
       "2    0        6.5        0.6160   0.850080  \n",
       "3    0        7.5        0.5031   0.694278  \n",
       "4    0        6.5        0.8325   1.148850  "
      ]
     },
     "execution_count": 2,
     "metadata": {},
     "output_type": "execute_result"
    }
   ],
   "source": [
    "data = pd.read_csv('clean_data.csv')\n",
    "data.head()"
   ]
  },
  {
   "cell_type": "markdown",
   "id": "a20778bb",
   "metadata": {},
   "source": [
    "## 1st hypothesis"
   ]
  },
  {
   "cell_type": "markdown",
   "id": "7147d5e5",
   "metadata": {},
   "source": [
    "H0: the consumption for both fuels is the same\\\n",
    "H1: the consumption for each fuel is different\\\n",
    "Two-sided test"
   ]
  },
  {
   "cell_type": "code",
   "execution_count": 3,
   "id": "2f289c2d",
   "metadata": {},
   "outputs": [
    {
     "name": "stdout",
     "output_type": "stream",
     "text": [
      "The p-value is:  0.27679289437741406\n",
      "The statistic is:  1.089091767035112\n"
     ]
    }
   ],
   "source": [
    "stat,pval=st.ttest_ind(data[data['gas_type'] == 'E10']['trip_consume'],data[data['gas_type'] == 'SP98']['trip_consume'],alternative = \"two-sided\")\n",
    "print('The p-value is: ',pval)\n",
    "print('The statistic is: ',stat)"
   ]
  },
  {
   "cell_type": "markdown",
   "id": "d1c30fea",
   "metadata": {},
   "source": [
    "The p-value is greater than 0.01, 0.05, and 0.1, so we fail to reject the null hypothesis for those significant levels. We don't have enough evidence to say that the consumption for each fuel is different"
   ]
  },
  {
   "cell_type": "markdown",
   "id": "23dc4c6d",
   "metadata": {},
   "source": [
    "## 2nd hypothesis"
   ]
  },
  {
   "cell_type": "markdown",
   "id": "2214a957",
   "metadata": {},
   "source": [
    "H0: the cost for both fuels is the same per trip\\\n",
    "H1: the cost for each fuel is different\\\n",
    "Two-sided test"
   ]
  },
  {
   "cell_type": "code",
   "execution_count": 4,
   "id": "0f50acaf",
   "metadata": {},
   "outputs": [
    {
     "name": "stdout",
     "output_type": "stream",
     "text": [
      "The p-value is:  0.536481279060945\n",
      "The statistic is:  0.6186964484920059\n"
     ]
    }
   ],
   "source": [
    "stat,pval=st.ttest_ind(data[data['gas_type'] == 'E10']['trip_cost'],data[data['gas_type'] == 'SP98']['trip_cost'],alternative = \"two-sided\")\n",
    "print('The p-value is: ',pval)\n",
    "print('The statistic is: ',stat)"
   ]
  },
  {
   "cell_type": "markdown",
   "id": "cf20d091",
   "metadata": {},
   "source": [
    "The p-value is greater than 0.01, 0.05, and 0.1, so we fail to reject the null hypothesis for those significant levels. We don't have enough evidence to say that the cost for each fuel is different"
   ]
  }
 ],
 "metadata": {
  "kernelspec": {
   "display_name": "Python 3 (ipykernel)",
   "language": "python",
   "name": "python3"
  },
  "language_info": {
   "codemirror_mode": {
    "name": "ipython",
    "version": 3
   },
   "file_extension": ".py",
   "mimetype": "text/x-python",
   "name": "python",
   "nbconvert_exporter": "python",
   "pygments_lexer": "ipython3",
   "version": "3.8.16"
  }
 },
 "nbformat": 4,
 "nbformat_minor": 5
}
